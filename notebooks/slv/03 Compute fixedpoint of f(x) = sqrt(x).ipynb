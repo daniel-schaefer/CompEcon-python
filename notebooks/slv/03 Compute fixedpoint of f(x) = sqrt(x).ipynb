{
 "cells": [
  {
   "cell_type": "markdown",
   "metadata": {},
   "source": [
    "### DEMSLV03"
   ]
  },
  {
   "cell_type": "markdown",
   "metadata": {},
   "source": [
    "# Compute fixedpoint of $f(x) = x^{0.5}$"
   ]
  },
  {
   "cell_type": "markdown",
   "metadata": {},
   "source": [
    "Compute fixedpoint of $f(x) = x^{0.5}$ using Newton, Broyden, and function iteration methods.\n",
    "\n",
    "Initial values generated randomly. Some alrorithms may fail to converge, depending on the initial value. \n",
    "\n",
    "True fixedpoint is $x=1$."
   ]
  },
  {
   "cell_type": "code",
   "execution_count": 1,
   "metadata": {
    "collapsed": true
   },
   "outputs": [],
   "source": [
    "from demos.setup import np, tic, toc\n",
    "from compecon import NLP"
   ]
  },
  {
   "cell_type": "markdown",
   "metadata": {},
   "source": [
    "### Randomly generate starting point"
   ]
  },
  {
   "cell_type": "code",
   "execution_count": 2,
   "metadata": {
    "collapsed": true
   },
   "outputs": [],
   "source": [
    "xinit = np.random.rand(1) + 0.5"
   ]
  },
  {
   "cell_type": "markdown",
   "metadata": {},
   "source": [
    "### Set up the problem"
   ]
  },
  {
   "cell_type": "code",
   "execution_count": 3,
   "metadata": {
    "collapsed": true
   },
   "outputs": [],
   "source": [
    "def g(x):\n",
    "    return np.sqrt(x)\n",
    "\n",
    "problem_as_fixpoint = NLP(g, xinit)"
   ]
  },
  {
   "cell_type": "markdown",
   "metadata": {},
   "source": [
    "### Equivalent Rootfinding Formulation"
   ]
  },
  {
   "cell_type": "code",
   "execution_count": 4,
   "metadata": {
    "collapsed": true
   },
   "outputs": [],
   "source": [
    "def f(x):\n",
    "    fval = x - np.sqrt(x)\n",
    "    fjac = 1-0.5 / np.sqrt(x)\n",
    "    return fval, fjac\n",
    "\n",
    "problem_as_zero = NLP(f, xinit)"
   ]
  },
  {
   "cell_type": "markdown",
   "metadata": {},
   "source": [
    "### Compute fixed-point using Newton method"
   ]
  },
  {
   "cell_type": "code",
   "execution_count": 5,
   "metadata": {
    "collapsed": true
   },
   "outputs": [],
   "source": [
    "t0 = tic()\n",
    "x1 = problem_as_zero.newton()\n",
    "t1 = 100 * toc(t0)\n",
    "n1 = problem_as_zero.fnorm"
   ]
  },
  {
   "cell_type": "markdown",
   "metadata": {},
   "source": [
    "### Compute fixed-point using Broyden method"
   ]
  },
  {
   "cell_type": "code",
   "execution_count": 6,
   "metadata": {
    "collapsed": true
   },
   "outputs": [],
   "source": [
    "t0 = tic()\n",
    "x2 = problem_as_zero.broyden()\n",
    "t2 = 100 * toc(t0)\n",
    "n2 = problem_as_zero.fnorm"
   ]
  },
  {
   "cell_type": "markdown",
   "metadata": {},
   "source": [
    "### Compute fixed-point using function iteration"
   ]
  },
  {
   "cell_type": "code",
   "execution_count": 7,
   "metadata": {
    "collapsed": true
   },
   "outputs": [],
   "source": [
    "t0 = tic()\n",
    "x3 = problem_as_fixpoint.fixpoint()\n",
    "t3 = 100 * toc(t0)\n",
    "n3 = np.linalg.norm(problem_as_fixpoint.fx - x3)"
   ]
  },
  {
   "cell_type": "markdown",
   "metadata": {},
   "source": [
    "### Print results"
   ]
  },
  {
   "cell_type": "code",
   "execution_count": 8,
   "metadata": {
    "collapsed": false
   },
   "outputs": [
    {
     "name": "stdout",
     "output_type": "stream",
     "text": [
      "Hundredths of seconds required to compute fixed-point of g(x)=sqrt(x)\n",
      "using Newton, Broyden, and function iteration methods, starting at\n",
      "x = 1.03\n",
      "\n",
      " Method       Time    Norm of f       x\n",
      " ----------------------------------------\n",
      "   Newton     0.53       7e-09      1.00\n",
      "  Broyden     0.40       5e-11      1.00\n",
      " Function     0.40       7e-09      1.00\n"
     ]
    }
   ],
   "source": [
    "print('Hundredths of seconds required to compute fixed-point of g(x)=sqrt(x)')\n",
    "print('using Newton, Broyden, and function iteration methods, starting at')\n",
    "print('x = %4.2f\\n' % xinit)\n",
    "print(' Method       Time    Norm of f       x\\n', '-' * 40)\n",
    "ff = '%9s %8.2f    %8.0e     %5.2f'\n",
    "print(ff % ('Newton', t1, n1, x1))\n",
    "print(ff % ('Broyden', t2, n2, x2))\n",
    "print(ff % ('Function', t3, n3, x3))"
   ]
  }
 ],
 "metadata": {
  "kernelspec": {
   "display_name": "Python 3",
   "language": "python",
   "name": "python3"
  },
  "language_info": {
   "codemirror_mode": {
    "name": "ipython",
    "version": 3
   },
   "file_extension": ".py",
   "mimetype": "text/x-python",
   "name": "python",
   "nbconvert_exporter": "python",
   "pygments_lexer": "ipython3",
   "version": "3.5.0"
  }
 },
 "nbformat": 4,
 "nbformat_minor": 0
}

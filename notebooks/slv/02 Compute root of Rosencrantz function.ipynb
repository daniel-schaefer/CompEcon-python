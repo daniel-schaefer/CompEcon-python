{
 "cells": [
  {
   "cell_type": "markdown",
   "metadata": {},
   "source": [
    "### DEMSLV02"
   ]
  },
  {
   "cell_type": "markdown",
   "metadata": {},
   "source": [
    "# Compute root of Rosencrantz function"
   ]
  },
  {
   "cell_type": "markdown",
   "metadata": {},
   "source": [
    "Compute root of \n",
    "\n",
    "\\begin{equation}\n",
    "f(x_1,x_2)= \\begin{bmatrix}200x_1(x_2-x_1^2) + 1-x_1 \\\\ 100(x_1^2-x_2)\\end{bmatrix}\n",
    "\\end{equation}\n",
    "\n",
    "using Newton and Broyden methods. Initial values generated randomly.  True root is $x_1=1, \\quad x_2=1$."
   ]
  },
  {
   "cell_type": "code",
   "execution_count": 1,
   "metadata": {
    "collapsed": true
   },
   "outputs": [],
   "source": [
    "from demos.setup import np, tic, toc\n",
    "from compecon import NLP"
   ]
  },
  {
   "cell_type": "markdown",
   "metadata": {},
   "source": [
    "### Set up the problem"
   ]
  },
  {
   "cell_type": "code",
   "execution_count": 2,
   "metadata": {
    "collapsed": true
   },
   "outputs": [],
   "source": [
    "def f(x):\n",
    "    x1, x2 = x\n",
    "    fval = [200 * x1 * (x2 - x1 ** 2) + 1 - x1, 100 * (x1 ** 2 - x2)]\n",
    "    fjac = [[200 * (x2 - x1 ** 2) - 400 * x1 ** 2 - 1, 200 * x1],\n",
    "            [200 * x1, -100]]\n",
    "    return np.array(fval), np.array(fjac)\n",
    "\n",
    "problem = NLP(f)"
   ]
  },
  {
   "cell_type": "markdown",
   "metadata": {},
   "source": [
    "### Randomly generate starting point"
   ]
  },
  {
   "cell_type": "code",
   "execution_count": 3,
   "metadata": {
    "collapsed": true
   },
   "outputs": [],
   "source": [
    "problem.x0 = np.random.randn(2)"
   ]
  },
  {
   "cell_type": "markdown",
   "metadata": {},
   "source": [
    "### Compute root using Newton method"
   ]
  },
  {
   "cell_type": "code",
   "execution_count": 4,
   "metadata": {
    "collapsed": true
   },
   "outputs": [],
   "source": [
    "t0 = tic()\n",
    "x1 = problem.newton()\n",
    "t1 = 100 * toc(t0)\n",
    "n1 = problem.fnorm"
   ]
  },
  {
   "cell_type": "markdown",
   "metadata": {},
   "source": [
    "### Compute root using Broyden method"
   ]
  },
  {
   "cell_type": "code",
   "execution_count": 5,
   "metadata": {
    "collapsed": true
   },
   "outputs": [],
   "source": [
    "t0 = tic()\n",
    "x2 = problem.broyden()\n",
    "t2 = 100 * toc(t0)\n",
    "n2 = problem.fnorm"
   ]
  },
  {
   "cell_type": "markdown",
   "metadata": {},
   "source": [
    "### Print results"
   ]
  },
  {
   "cell_type": "code",
   "execution_count": 6,
   "metadata": {
    "collapsed": false
   },
   "outputs": [
    {
     "name": "stdout",
     "output_type": "stream",
     "text": [
      "Hundreds of seconds required to compute root of Rosencrantz function\n",
      "f(x1,x2)= [200*x1*(x2-x1^2)+1-x1;100*(x1^2-x2)] via Newton and Broyden\n",
      "methods, starting at x1 = 1.22 x2 = 1.28\n",
      "\n",
      "Method      Time   Norm of f        x1     x2\n",
      " ---------------------------------------------\n",
      "Newton      1.60       5e-13      1.00   1.00\n",
      "Broyden     1.60       6e-09      1.00   1.00\n"
     ]
    }
   ],
   "source": [
    "print('Hundreds of seconds required to compute root of Rosencrantz function')\n",
    "print('f(x1,x2)= [200*x1*(x2-x1^2)+1-x1;100*(x1^2-x2)] via Newton and Broyden')\n",
    "print('methods, starting at x1 = {:4.2f} x2 = {:4.2f}'.format(*problem.x0))\n",
    "print('\\nMethod      Time   Norm of f        x1     x2\\n', '-' * 45)\n",
    "print('Newton  %8.2f    %8.0e     %5.2f  %5.2f' % (t1, n1, x1[0], x1[1]))\n",
    "print('Broyden %8.2f    %8.0e     %5.2f  %5.2f' % (t2, n2, x2[0], x2[1]))"
   ]
  }
 ],
 "metadata": {
  "kernelspec": {
   "display_name": "Python 3",
   "language": "python",
   "name": "python3"
  },
  "language_info": {
   "codemirror_mode": {
    "name": "ipython",
    "version": 3
   },
   "file_extension": ".py",
   "mimetype": "text/x-python",
   "name": "python",
   "nbconvert_exporter": "python",
   "pygments_lexer": "ipython3",
   "version": "3.5.0"
  }
 },
 "nbformat": 4,
 "nbformat_minor": 0
}

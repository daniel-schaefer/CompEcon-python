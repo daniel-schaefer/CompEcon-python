{
 "cells": [
  {
   "cell_type": "markdown",
   "metadata": {},
   "source": [
    "### DEMSLV04"
   ]
  },
  {
   "cell_type": "markdown",
   "metadata": {},
   "source": [
    "# Compute fixedpoint of $f(x, y)= [x^2 + y^3; xy - 0.5]$"
   ]
  },
  {
   "cell_type": "markdown",
   "metadata": {},
   "source": [
    "Compute fixedpoint of \n",
    "\n",
    "\\begin{equation}\n",
    "f(x, y)= \\begin{bmatrix}x^2 + y^3 \\\\ xy - 0.5 \\end{bmatrix}\n",
    "\\end{equation}\n",
    "\n",
    "using Newton, Broyden, and function iteration methods.\n",
    "\n",
    "Initial values generated randomly.  Some algorithms may fail to converge, depending on the initial value.\n",
    "\n",
    "True fixedpoint is $x = -0.09$,  $y=-0.46$."
   ]
  },
  {
   "cell_type": "code",
   "execution_count": 1,
   "metadata": {
    "collapsed": true
   },
   "outputs": [],
   "source": [
    "from demos.setup import np, tic, toc\n",
    "from compecon import NLP\n",
    "np.random.seed(12)"
   ]
  },
  {
   "cell_type": "markdown",
   "metadata": {},
   "source": [
    "### Set up the problem"
   ]
  },
  {
   "cell_type": "code",
   "execution_count": 2,
   "metadata": {
    "collapsed": true
   },
   "outputs": [],
   "source": [
    "def g(z):\n",
    "    x, y = z\n",
    "    return np.array([x **2 + y ** 3, x * y - 0.5])\n",
    "\n",
    "problem_as_fixpoint = NLP(g, maxit=1500)"
   ]
  },
  {
   "cell_type": "markdown",
   "metadata": {},
   "source": [
    "### Equivalent Rootfinding Formulation"
   ]
  },
  {
   "cell_type": "code",
   "execution_count": 3,
   "metadata": {
    "collapsed": true
   },
   "outputs": [],
   "source": [
    "def f(z):\n",
    "    x, y = z\n",
    "    fval = [x - x ** 2 - y ** 3,\n",
    "            y - x * y + 0.5]\n",
    "    fjac = [[1 - 2 * x, -3 * y **2],\n",
    "            [-y, 1 - x]]\n",
    "\n",
    "    return np.array(fval), np.array(fjac)\n",
    "\n",
    "problem_as_zero = NLP(f, maxit=1500)"
   ]
  },
  {
   "cell_type": "markdown",
   "metadata": {},
   "source": [
    "### Randomly generate starting point"
   ]
  },
  {
   "cell_type": "code",
   "execution_count": 4,
   "metadata": {
    "collapsed": true
   },
   "outputs": [],
   "source": [
    "xinit = np.random.randn(2)"
   ]
  },
  {
   "cell_type": "markdown",
   "metadata": {},
   "source": [
    "### Compute fixed-point using Newton method"
   ]
  },
  {
   "cell_type": "code",
   "execution_count": 5,
   "metadata": {
    "collapsed": true
   },
   "outputs": [],
   "source": [
    "t0 = tic()\n",
    "z1 = problem_as_zero.newton(xinit)\n",
    "t1 = 100 * toc(t0)\n",
    "n1 = problem_as_zero.fnorm"
   ]
  },
  {
   "cell_type": "markdown",
   "metadata": {},
   "source": [
    "### Compute fixed-point using Broyden method"
   ]
  },
  {
   "cell_type": "code",
   "execution_count": 6,
   "metadata": {
    "collapsed": true
   },
   "outputs": [],
   "source": [
    "t0 = tic()\n",
    "z2 = problem_as_zero.broyden(xinit)\n",
    "t2 = 100 * toc(t0)\n",
    "n2 = problem_as_zero.fnorm"
   ]
  },
  {
   "cell_type": "markdown",
   "metadata": {},
   "source": [
    "### Compute fixed-point using function iteration"
   ]
  },
  {
   "cell_type": "code",
   "execution_count": 7,
   "metadata": {
    "collapsed": true
   },
   "outputs": [],
   "source": [
    "t0 = tic()\n",
    "z3 = problem_as_fixpoint.fixpoint(xinit)\n",
    "t3 = 100 * toc(t0)\n",
    "n3 = np.linalg.norm(problem_as_fixpoint.fx - z3)"
   ]
  },
  {
   "cell_type": "markdown",
   "metadata": {},
   "source": []
  },
  {
   "cell_type": "code",
   "execution_count": 8,
   "metadata": {
    "collapsed": false
   },
   "outputs": [
    {
     "name": "stdout",
     "output_type": "stream",
     "text": [
      "Hundredths of seconds required to compute fixed-point of \n",
      "\n",
      "\t\tg(x1,x2)=[x1^2+x2^3; x1*x2-0.5]\n",
      "\n",
      "using Newton, Broyden, and function iteration methods, starting at\n",
      "\n",
      "\t\tx1 = 0.47  x2 = -0.68\n",
      "\n",
      "\n",
      "Method       Time   Norm of f         x1       x2\n",
      " ------------------------------------------------\n",
      "Newton       0.80       2e-15     -0.09     -0.46\n",
      "Broyden      0.10       8e-10     -0.09     -0.46\n",
      "Function     0.05       8e-09     -0.09     -0.46\n"
     ]
    }
   ],
   "source": [
    "print('Hundredths of seconds required to compute fixed-point of ')\n",
    "print('\\n\\t\\tg(x1,x2)=[x1^2+x2^3; x1*x2-0.5]')\n",
    "print('\\nusing Newton, Broyden, and function iteration methods, starting at')\n",
    "print('\\n\\t\\tx1 = {:4.2f}  x2 = {:4.2f}\\n\\n'.format(*xinit))\n",
    "print('Method       Time   Norm of f         x1       x2\\n', '-' * 48)\n",
    "print('Newton   {:8.2f}    {:8.0e}     {:5.2f}     {:5.2f}'.format(t1, n1, *z1))\n",
    "print('Broyden  {:8.2f}    {:8.0e}     {:5.2f}     {:5.2f}'.format(t2, n2, *z2))\n",
    "print('Function {:8.2f}    {:8.0e}     {:5.2f}     {:5.2f}'.format(t3, n3, *z3))"
   ]
  }
 ],
 "metadata": {
  "kernelspec": {
   "display_name": "Python 3",
   "language": "python",
   "name": "python3"
  },
  "language_info": {
   "codemirror_mode": {
    "name": "ipython",
    "version": 3
   },
   "file_extension": ".py",
   "mimetype": "text/x-python",
   "name": "python",
   "nbconvert_exporter": "python",
   "pygments_lexer": "ipython3",
   "version": "3.5.0"
  }
 },
 "nbformat": 4,
 "nbformat_minor": 0
}

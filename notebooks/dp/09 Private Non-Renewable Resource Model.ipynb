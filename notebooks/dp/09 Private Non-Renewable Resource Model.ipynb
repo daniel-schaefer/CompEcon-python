{
 "cells": [
  {
   "cell_type": "markdown",
   "metadata": {},
   "source": [
    "### DEMDP09 \n",
    "# Private Non-Renewable Resource Model\n",
    "\n",
    "Profit maximizing mine owner must decide how much ore to extract"
   ]
  },
  {
   "cell_type": "markdown",
   "metadata": {},
   "source": [
    "|            |          |                            |\n",
    "|------------|----------|----------------------------|   \n",
    "| States     |  s       | ore stock                  |\n",
    "|------------|----------|----------------------------|   \n",
    "| Actions    | q        | ore extracted and sold     |\n",
    "|------------|----------|----------------------------|   \n",
    "| Parameters | a0,a1    | demand function parameters |\n",
    "|            | b0,b1    | supply function parameters |\n",
    "|            | $\\delta$ | discount factor            |    "
   ]
  },
  {
   "cell_type": "code",
   "execution_count": 1,
   "metadata": {},
   "outputs": [],
   "source": [
    "import numpy as np\n",
    "import matplotlib.pyplot as plt\n",
    "from compecon import BasisSpline, DPmodel, DPoptions, qnwnorm, demo"
   ]
  },
  {
   "cell_type": "markdown",
   "metadata": {},
   "source": [
    "### Model parameters"
   ]
  },
  {
   "cell_type": "code",
   "execution_count": 2,
   "metadata": {},
   "outputs": [],
   "source": [
    "a0, a1, b0, b1, δ = 5, 0.8, 7, 1.0, 0.9"
   ]
  },
  {
   "cell_type": "markdown",
   "metadata": {},
   "source": [
    "### State space\n",
    "The state variable is s=\"Stock\", which is restricted to $s\\in[0, 10]$. \n",
    "\n",
    "Here, we represent it with a cubic spline basis, with $n=101$ nodes."
   ]
  },
  {
   "cell_type": "code",
   "execution_count": 3,
   "metadata": {},
   "outputs": [],
   "source": [
    "n, smin, smax = 101, 0, 10\n",
    "basis = BasisSpline(n, smin, smax, labels=['Ore Stock'])"
   ]
  },
  {
   "cell_type": "markdown",
   "metadata": {},
   "source": [
    "### Action space\n",
    "The choice variable q=\"Ore extracted\" must be nonnegative."
   ]
  },
  {
   "cell_type": "code",
   "execution_count": 4,
   "metadata": {},
   "outputs": [],
   "source": [
    "def bounds(s, i=None, j=None):\n",
    "    return np.zeros_like(s), s[:]"
   ]
  },
  {
   "cell_type": "markdown",
   "metadata": {},
   "source": [
    "### Reward function\n",
    "The reward function is the utility of harvesting $q$ units."
   ]
  },
  {
   "cell_type": "code",
   "execution_count": 5,
   "metadata": {},
   "outputs": [],
   "source": [
    "def reward(s, q, i=None, j=None):\n",
    "    u = (a0-b0+b1*s)*q - (a1+b1/2)*q**2\n",
    "    ux = (a0-b0+b1*s) - (2*a1+b1)*q\n",
    "    uxx = -2*(a1+b1/2)*np.ones_like(s)    \n",
    "    return u, ux, uxx"
   ]
  },
  {
   "cell_type": "markdown",
   "metadata": {},
   "source": [
    "### State transition function\n",
    "Next period, the stock will be equal that is $s' = \\alpha (s-q) - 0.5\\beta(s-q)^2$"
   ]
  },
  {
   "cell_type": "code",
   "execution_count": 6,
   "metadata": {},
   "outputs": [],
   "source": [
    "def transition(s, q, i=None, j=None, in_=None, e=None):\n",
    "    g = s-q\n",
    "    gx = -np.ones_like(s)\n",
    "    gxx = np.zeros_like(s)\n",
    "    return g, gx, gxx"
   ]
  },
  {
   "cell_type": "markdown",
   "metadata": {},
   "source": [
    "### Model structure\n",
    "The value of wealth $s$ satisfies the Bellman equation\n",
    "\\begin{equation*}\n",
    "V(s) = \\max_q\\left\\{(a_0-b_0+b_1 s)q - (a_1+b_1/2)q^2 + \\delta V(s')  \\right\\}\n",
    "\\end{equation*}\n",
    "\n",
    "To solve and simulate this model,use the CompEcon class `DPmodel`"
   ]
  },
  {
   "cell_type": "code",
   "execution_count": 7,
   "metadata": {},
   "outputs": [],
   "source": [
    "model = DPmodel(basis, reward, transition, bounds,\n",
    "                       x=['Ore Extracted'],\n",
    "                       discount=δ)"
   ]
  },
  {
   "cell_type": "markdown",
   "metadata": {},
   "source": [
    "### Solving the model\n",
    "\n",
    "Solving the growth model by collocation"
   ]
  },
  {
   "cell_type": "code",
   "execution_count": 8,
   "metadata": {},
   "outputs": [
    {
     "name": "stdout",
     "output_type": "stream",
     "text": [
      "Solving infinite-horizon model collocation equation by Newton's method\n",
      "iter change       time    \n",
      "------------------------------\n",
      "   0       1.9e+01    0.0191\n",
      "   1       3.5e+00    0.0348\n",
      "   2       2.2e-01    0.0504\n",
      "   3       1.0e-03    0.0816\n",
      "   4       2.2e-08    0.0988\n",
      "   5       2.5e-14    0.1043\n",
      "Elapsed Time =    0.10 Seconds\n"
     ]
    },
    {
     "data": {
      "text/html": [
       "<div>\n",
       "<style scoped>\n",
       "    .dataframe tbody tr th:only-of-type {\n",
       "        vertical-align: middle;\n",
       "    }\n",
       "\n",
       "    .dataframe tbody tr th {\n",
       "        vertical-align: top;\n",
       "    }\n",
       "\n",
       "    .dataframe thead th {\n",
       "        text-align: right;\n",
       "    }\n",
       "</style>\n",
       "<table border=\"1\" class=\"dataframe\">\n",
       "  <thead>\n",
       "    <tr style=\"text-align: right;\">\n",
       "      <th></th>\n",
       "      <th>Ore Stock</th>\n",
       "      <th>value</th>\n",
       "      <th>resid</th>\n",
       "      <th>Ore Extracted</th>\n",
       "    </tr>\n",
       "    <tr>\n",
       "      <th>Ore Stock</th>\n",
       "      <th></th>\n",
       "      <th></th>\n",
       "      <th></th>\n",
       "      <th></th>\n",
       "    </tr>\n",
       "  </thead>\n",
       "  <tbody>\n",
       "    <tr>\n",
       "      <th>0.000000</th>\n",
       "      <td>0.000000</td>\n",
       "      <td>0.000000e+00</td>\n",
       "      <td>0.000000e+00</td>\n",
       "      <td>0.000000e+00</td>\n",
       "    </tr>\n",
       "    <tr>\n",
       "      <th>0.009911</th>\n",
       "      <td>0.009911</td>\n",
       "      <td>-3.725252e-16</td>\n",
       "      <td>-3.725252e-17</td>\n",
       "      <td>3.016346e-15</td>\n",
       "    </tr>\n",
       "    <tr>\n",
       "      <th>0.019822</th>\n",
       "      <td>0.019822</td>\n",
       "      <td>-3.915019e-16</td>\n",
       "      <td>-3.915019e-17</td>\n",
       "      <td>3.170001e-15</td>\n",
       "    </tr>\n",
       "    <tr>\n",
       "      <th>0.029732</th>\n",
       "      <td>0.029732</td>\n",
       "      <td>-1.557981e-16</td>\n",
       "      <td>-1.557981e-17</td>\n",
       "      <td>1.261501e-15</td>\n",
       "    </tr>\n",
       "    <tr>\n",
       "      <th>0.039643</th>\n",
       "      <td>0.039643</td>\n",
       "      <td>2.357181e-16</td>\n",
       "      <td>2.357181e-17</td>\n",
       "      <td>-1.908615e-15</td>\n",
       "    </tr>\n",
       "  </tbody>\n",
       "</table>\n",
       "</div>"
      ],
      "text/plain": [
       "           Ore Stock         value         resid  Ore Extracted\n",
       "Ore Stock                                                      \n",
       "0.000000    0.000000  0.000000e+00  0.000000e+00   0.000000e+00\n",
       "0.009911    0.009911 -3.725252e-16 -3.725252e-17   3.016346e-15\n",
       "0.019822    0.019822 -3.915019e-16 -3.915019e-17   3.170001e-15\n",
       "0.029732    0.029732 -1.557981e-16 -1.557981e-17   1.261501e-15\n",
       "0.039643    0.039643  2.357181e-16  2.357181e-17  -1.908615e-15"
      ]
     },
     "execution_count": 8,
     "metadata": {},
     "output_type": "execute_result"
    }
   ],
   "source": [
    "S = model.solve()\n",
    "S.head()"
   ]
  },
  {
   "cell_type": "markdown",
   "metadata": {},
   "source": [
    "`DPmodel.solve` returns a pandas `DataFrame` with the following data:"
   ]
  },
  {
   "cell_type": "markdown",
   "metadata": {},
   "source": [
    "Compute and print abandonment point"
   ]
  },
  {
   "cell_type": "code",
   "execution_count": 9,
   "metadata": {},
   "outputs": [
    {
     "name": "stdout",
     "output_type": "stream",
     "text": [
      "Abandonment Point =  2.00\n"
     ]
    }
   ],
   "source": [
    "sstar = (b0-a0)/b1\n",
    "print(f'Abandonment Point = {sstar:5.2f}')"
   ]
  },
  {
   "cell_type": "markdown",
   "metadata": {},
   "source": [
    "We are also interested in the shadow price of ore (the first derivative of the value function)."
   ]
  },
  {
   "cell_type": "code",
   "execution_count": 10,
   "metadata": {},
   "outputs": [],
   "source": [
    "S['shadow price'] = model.Value(S['Ore Stock'],1)"
   ]
  },
  {
   "cell_type": "markdown",
   "metadata": {},
   "source": [
    "## Plotting the results"
   ]
  },
  {
   "cell_type": "markdown",
   "metadata": {},
   "source": [
    "### Optimal Policy"
   ]
  },
  {
   "cell_type": "code",
   "execution_count": 11,
   "metadata": {},
   "outputs": [
    {
     "data": {
      "image/png": "[encoded data removed]",
      "text/plain": [
       "<matplotlib.figure.Figure at 0x262c702f4a8>"
      ]
     },
     "metadata": {},
     "output_type": "display_data"
    }
   ],
   "source": [
    "fig1 = demo.figure('Optimal Extraction','Ore Stock', 'Ore Extracted')\n",
    "plt.plot(S['Ore Extracted'])\n",
    "demo.annotate(sstar, 0,f'$s^*$ = {sstar:.2f}','bo', (-8, +8),ms=10,fs=11)"
   ]
  },
  {
   "cell_type": "markdown",
   "metadata": {},
   "source": [
    "### Value Function"
   ]
  },
  {
   "cell_type": "code",
   "execution_count": 12,
   "metadata": {},
   "outputs": [
    {
     "data": {
      "text/plain": [
       "[<matplotlib.lines.Line2D at 0x262c70464a8>]"
      ]
     },
     "execution_count": 12,
     "metadata": {},
     "output_type": "execute_result"
    },
    {
     "data": {
      "image/png": "[encoded data removed]",
      "text/plain": [
       "<matplotlib.figure.Figure at 0x262c721d128>"
      ]
     },
     "metadata": {},
     "output_type": "display_data"
    }
   ],
   "source": [
    "fig2 = demo.figure('Value Function', 'Ore Stock', 'Value')\n",
    "plt.plot(S.value)"
   ]
  },
  {
   "cell_type": "markdown",
   "metadata": {},
   "source": [
    "### Shadow Price Function"
   ]
  },
  {
   "cell_type": "code",
   "execution_count": 13,
   "metadata": {},
   "outputs": [
    {
     "data": {
      "text/plain": [
       "[<matplotlib.lines.Line2D at 0x262c70d2e10>]"
      ]
     },
     "execution_count": 13,
     "metadata": {},
     "output_type": "execute_result"
    },
    {
     "data": {
      "image/png": "[encoded data removed]",
      "text/plain": [
       "<matplotlib.figure.Figure at 0x262c7080fd0>"
      ]
     },
     "metadata": {},
     "output_type": "display_data"
    }
   ],
   "source": [
    "fig3 = demo.figure('Shadow Price Function', 'Ore Stock', 'Shadow Price')\n",
    "plt.plot(S['shadow price'])"
   ]
  },
  {
   "cell_type": "markdown",
   "metadata": {},
   "source": [
    "### Residual"
   ]
  },
  {
   "cell_type": "code",
   "execution_count": 14,
   "metadata": {
    "scrolled": false
   },
   "outputs": [
    {
     "data": {
      "image/png": "[encoded data removed]",
      "text/plain": [
       "<matplotlib.figure.Figure at 0x262c6e9f390>"
      ]
     },
     "metadata": {},
     "output_type": "display_data"
    }
   ],
   "source": [
    "fig4 = demo.figure('Bellman Equation Residua', 'Ore Stock', 'Residual')\n",
    "plt.hlines(0,smin,smax,'k',linestyles='--')\n",
    "plt.plot(S['resid'])\n",
    "plt.ticklabel_format(style='sci', axis='y', scilimits=(-1,1))"
   ]
  },
  {
   "cell_type": "markdown",
   "metadata": {},
   "source": [
    "## Simulating the model\n",
    "\n",
    "We simulate 21 periods of the model starting from $s=s_{\\max}$"
   ]
  },
  {
   "cell_type": "code",
   "execution_count": 15,
   "metadata": {},
   "outputs": [],
   "source": [
    "T = 21\n",
    "data = model.simulate(T, smax)"
   ]
  },
  {
   "cell_type": "code",
   "execution_count": 16,
   "metadata": {},
   "outputs": [
    {
     "data": {
      "text/plain": [
       "Index(['time', 'Ore Stock', 'Ore Extracted'], dtype='object')"
      ]
     },
     "execution_count": 16,
     "metadata": {},
     "output_type": "execute_result"
    }
   ],
   "source": [
    "data.columns"
   ]
  },
  {
   "cell_type": "markdown",
   "metadata": {},
   "source": [
    "### Simulated State and Policy Paths"
   ]
  },
  {
   "cell_type": "code",
   "execution_count": 17,
   "metadata": {
    "scrolled": false
   },
   "outputs": [
    {
     "data": {
      "image/png": "[encoded data removed]",
      "text/plain": [
       "<matplotlib.figure.Figure at 0x262c72a17f0>"
      ]
     },
     "metadata": {},
     "output_type": "display_data"
    }
   ],
   "source": [
    "fig5 = demo.figure('State and Policy Paths','Period', 'Stock/Extraction',[0, T + 0.5])\n",
    "plt.plot(data[['Ore Stock', 'Ore Extracted']])\n",
    "plt.hlines(sstar,*plt.xlim(), linestyle='--')\n",
    "demo.annotate(5, sstar, f'$s^* = {sstar:.2f}$',ms=0,fs=11)\n",
    "#demo.annotate(T, qstar, f'steady-state extraction\\n = {qstar:.2f}', **opts)"
   ]
  },
  {
   "cell_type": "code",
   "execution_count": 18,
   "metadata": {},
   "outputs": [],
   "source": [
    "#demo.savefig([fig1,fig2,fig3,fig4,fig5])"
   ]
  }
 ],
 "metadata": {
  "kernelspec": {
   "display_name": "Python 3",
   "language": "python",
   "name": "python3"
  },
  "language_info": {
   "codemirror_mode": {
    "name": "ipython",
    "version": 3
   },
   "file_extension": ".py",
   "mimetype": "text/x-python",
   "name": "python",
   "nbconvert_exporter": "python",
   "pygments_lexer": "ipython3",
   "version": "3.6.4"
  }
 },
 "nbformat": 4,
 "nbformat_minor": 1
}

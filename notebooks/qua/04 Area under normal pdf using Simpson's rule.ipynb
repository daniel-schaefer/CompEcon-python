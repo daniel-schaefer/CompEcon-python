{
 "cells": [
  {
   "cell_type": "markdown",
   "metadata": {},
   "source": [
    "<center>\n",
    "<b>CompEcon Toolbox:</b>\n",
    "<div style=\"font-size:175%;color:white; background-color: #0064b0;\">DemQua04</div>\n",
    "<div style=\"font-size:250%;color:white; background-color: #0064b0;\">Area under normal pdf using Simpson's rule</div>\n",
    "\n",
    "<b>Randall Romero Aguilar, PhD</b>\n",
    "<br><br>\n",
    "\n",
    "</center>\n",
    "\n",
    "This demo is based on the original Matlab demo accompanying the  <a href=\"https://mitpress.mit.edu/books/applied-computational-economics-and-finance\">Computational Economics and Finance</a> 2001 textbook by Mario Miranda and Paul Fackler.\n",
    "\n",
    "\n",
    "<i>Last updated: 2020-Sep-10</i>"
   ]
  },
  {
   "cell_type": "markdown",
   "metadata": {},
   "source": [
    "## Initial tasks"
   ]
  },
  {
   "cell_type": "code",
   "execution_count": null,
   "metadata": {},
   "outputs": [],
   "source": [
    "if 'google.colab' in str(get_ipython()):\n",
    "    print(\"This notebook is running on Google Colab. Installing the compecon package.\")\n",
    "    !pip install compecon"
   ]
  },
  {
   "cell_type": "code",
   "execution_count": null,
   "metadata": {},
   "outputs": [],
   "source": [
    "import numpy as np\n",
    "from compecon import qnwsimp, demo\n",
    "import matplotlib.pyplot as plt"
   ]
  },
  {
   "cell_type": "code",
   "execution_count": null,
   "metadata": {},
   "outputs": [],
   "source": [
    "n, a, z = 11, 0, 1\n",
    "\n",
    "def f(x):\n",
    "    return np.sqrt(1/(2*np.pi))*np.exp(-0.5*x**2)"
   ]
  },
  {
   "cell_type": "code",
   "execution_count": null,
   "metadata": {},
   "outputs": [],
   "source": [
    "x, w = qnwsimp(n, a, z)\n",
    "prob = 0.5 + w.dot(f(x))"
   ]
  },
  {
   "cell_type": "code",
   "execution_count": null,
   "metadata": {},
   "outputs": [],
   "source": [
    "a, b, n = -4, 4, 500\n",
    "x = np.linspace(a, b, n)\n",
    "xz = np.linspace(a, z, n)\n",
    "\n",
    "fig, ax = plt.subplots(figsize=[8,4])\n",
    "ax.fill_between(xz,f(xz), color='LightSkyBlue')\n",
    "ax.hlines(0, a, b,'k','solid')\n",
    "ax.vlines(z, 0, f(z),'r',linewidth=2)\n",
    "ax.plot(x,f(x), linewidth=3)\n",
    "\n",
    "ax.annotate(r'$\\Pr\\left(\\tilde Z\\leq z\\right)$',[-1, 0.08], fontsize=18)\n",
    "ax.set_yticks([])\n",
    "ax.set_xticks([z])\n",
    "ax.set_xticklabels(['$z$'],fontsize=20);"
   ]
  },
  {
   "cell_type": "code",
   "execution_count": null,
   "metadata": {},
   "outputs": [],
   "source": [
    "#demo.savefig([fig], name='demqua04')"
   ]
  }
 ],
 "metadata": {
  "kernelspec": {
   "display_name": "Python 3",
   "language": "python",
   "name": "python3"
  },
  "language_info": {
   "codemirror_mode": {
    "name": "ipython",
    "version": 3
   },
   "file_extension": ".py",
   "mimetype": "text/x-python",
   "name": "python",
   "nbconvert_exporter": "python",
   "pygments_lexer": "ipython3",
   "version": "3.8.3"
  }
 },
 "nbformat": 4,
 "nbformat_minor": 4
}

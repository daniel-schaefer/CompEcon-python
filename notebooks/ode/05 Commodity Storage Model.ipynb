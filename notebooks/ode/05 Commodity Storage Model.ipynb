{
 "cells": [
  {
   "cell_type": "markdown",
   "source": [
    "# Commodity Storage Model\n",
    "\n",
    "**Randall Romero Aguilar, PhD**\n",
    "\n",
    "This demo is based on the original Matlab demo accompanying the  <a href=\"https://mitpress.mit.edu/books/applied-computational-economics-and-finance\">Computational Economics and Finance</a> 2001 textbook by Mario Miranda and Paul Fackler.\n",
    "\n",
    "Original (Matlab) CompEcon file: **demode05.m**\n",
    "\n",
    "Running this file requires the Python version of CompEcon. This can be installed with pip by running\n",
    "\n",
    "    !pip install compecon --upgrade\n",
    "\n",
    "<i>Last updated: 2021-Oct-05</i>\n",
    "<hr>"
   ],
   "metadata": {
    "collapsed": false,
    "pycharm": {
     "name": "#%% md\n"
    }
   }
  },
  {
   "cell_type": "markdown",
   "source": [
    "## About\n",
    "\n",
    "Solve\n",
    "\n",
    "\\begin{align*}\n",
    "\\dot{s} &= -p^{-\\eta}\\\\\n",
    "\\dot{p} &= rp+\\kappa\n",
    "\\end{align*}\n",
    "\n",
    "where\n",
    "\n",
    "* $s$: stocks\n",
    "* $p$: price\n",
    "\n"
   ],
   "metadata": {
    "collapsed": false,
    "pycharm": {
     "name": "#%% md\n"
    }
   }
  },
  {
   "cell_type": "markdown",
   "source": [
    "## FORMULATION"
   ],
   "metadata": {
    "collapsed": false,
    "pycharm": {
     "name": "#%% md\n"
    }
   }
  },
  {
   "cell_type": "code",
   "execution_count": 1,
   "outputs": [],
   "source": [
    "#from compecon import jacobian, ODE\n",
    "\n",
    "import numpy as np\n",
    "import pandas as pd\n",
    "import matplotlib.pyplot as plt"
   ],
   "metadata": {
    "collapsed": false,
    "pycharm": {
     "name": "#%%\n"
    }
   }
  },
  {
   "cell_type": "markdown",
   "source": [
    "### Velocity Function\n"
   ],
   "metadata": {
    "collapsed": false,
    "pycharm": {
     "name": "#%% md\n"
    }
   }
  },
  {
   "cell_type": "code",
   "execution_count": 2,
   "outputs": [],
   "source": [
    "r = 0.1  # interest rate\n",
    "κ = 0.5  # unit cost of storage\n",
    "η = 5    # demand elasticity\n",
    "\n",
    "def f(x):\n",
    "    s, p = x\n",
    "    return [-p**(-η),  r*p + κ]"
   ],
   "metadata": {
    "collapsed": false,
    "pycharm": {
     "name": "#%%\n"
    }
   }
  },
  {
   "cell_type": "markdown",
   "source": [
    "### Time Horizon"
   ],
   "metadata": {
    "collapsed": false,
    "pycharm": {
     "name": "#%% md\n"
    }
   }
  },
  {
   "cell_type": "code",
   "execution_count": 3,
   "outputs": [],
   "source": [
    "T = 1\n",
    "xlabels  = ['$s$','$p$']\n"
   ],
   "metadata": {
    "collapsed": false,
    "pycharm": {
     "name": "#%%\n"
    }
   }
  },
  {
   "cell_type": "markdown",
   "source": [
    "### Boundary Conditions"
   ],
   "metadata": {
    "collapsed": false,
    "pycharm": {
     "name": "#%% md\n"
    }
   }
  },
  {
   "cell_type": "code",
   "execution_count": 4,
   "outputs": [],
   "source": [
    "s0, sT  = 1, 0  # initial and terminal stocks\n",
    "bx = [1, 1]     # boundary variables\n",
    "bt = [0, T]     # boundary times\n",
    "bv = [s0, sT]   # boundary values"
   ],
   "metadata": {
    "collapsed": false,
    "pycharm": {
     "name": "#%%\n"
    }
   }
  },
  {
   "cell_type": "code",
   "execution_count": 18,
   "outputs": [],
   "source": [
    "\n",
    "import numpy as np\n",
    "import pandas as pd\n",
    "import matplotlib.pyplot as plt\n",
    "from matplotlib.animation import FuncAnimation\n",
    "from IPython.display import HTML\n",
    "\n",
    "from compecon import BasisChebyshev, BasisSpline, NLP, jacobian, gridmake\n",
    "\n",
    "class ODE:\n",
    "    def __init__(self, f, T, bv, *params, labels=None):\n",
    "        self.f = lambda x: f(x, *params)\n",
    "        self.T = T\n",
    "        self.bv = bv\n",
    "        self._d = len(self.bv)\n",
    "        self.fsol = None\n",
    "        self.xspx = None\n",
    "\n",
    "        if labels is not None:\n",
    "            assert len(labels) ==self._d, \"ERROR, number of labels must equal number of variables in system.\"\n",
    "            self.labels = labels\n",
    "        else:\n",
    "            self.labels = [f'$y_{j}$' for j in range(self._d)]\n",
    "\n",
    "    def solve_collocation(self, *, n=100, bt=None, bx=None, btype='cheb', y=None, nf=10):\n",
    "        if bt is None:\n",
    "            bt = np.zeros_like(self.bv)\n",
    "        if bx is None:\n",
    "            bx = np.arange(len(self.bv))\n",
    "\n",
    "        basis = BasisChebyshev if btype.lower() == 'cheb' else BasisSpline\n",
    "        T = self.T\n",
    "\n",
    "        # compute collocation nodes\n",
    "        t = basis(n - 1, 0, T).nodes\n",
    "\n",
    "        # Approximation structure\n",
    "        self.fsol = basis(n, 0, T, l=self.labels, labels=['Time'])  # falta inicializar los coeficientes\n",
    "\n",
    "        if y:\n",
    "            self.fsol.y += y\n",
    "        print(f'{self.fsol.c=}')\n",
    "\n",
    "        # residual function for nonlinear problem formulation\n",
    "        def residual(c):\n",
    "            # reshape coefficient vector\n",
    "            self.fsol.c = c.reshape(self._d, n)\n",
    "\n",
    "            # compute residuals at nodal times\n",
    "            x = self.fsol(t)\n",
    "            dx = self.fsol(t, 1)\n",
    "            r = dx - self.f(x)\n",
    "\n",
    "            # compute residuals at boundaries\n",
    "            x = self.fsol(bt)\n",
    "            b = np.array([x[j, bx[j]] - self.bv[j] for j in range(self._d)])\n",
    "            b = np.atleast_2d(b).T\n",
    "            return np.c_[r, b].flatten()\n",
    "\n",
    "        # Solve the nonlinear system\n",
    "        self.fsol.c = NLP(residual).broyden(x0=self.fsol.c.flatten(), show=True).reshape(self._d, n)\n",
    "\n",
    "        # Compute solution at plotting nodes\n",
    "        if nf > 0:\n",
    "            m = int(nf) * n\n",
    "            t = np.linspace(0, T, m)\n",
    "        else:\n",
    "            t = t.flatten()\n",
    "\n",
    "        x = self.fsol(t)\n",
    "\n",
    "        # Compute residual\n",
    "        dx = self.fsol(t, 1)\n",
    "        resid = dx - self.f(x)\n",
    "\n",
    "        self.x = pd.DataFrame(x.T, index=t, columns=self.labels)\n",
    "        self.resid = pd.DataFrame(resid.T, index=t, columns=self.labels)"
   ],
   "metadata": {
    "collapsed": false,
    "pycharm": {
     "name": "#%%\n"
    }
   }
  },
  {
   "cell_type": "markdown",
   "source": [
    "## SOLVE ODE USING COLLOCATION METHOD"
   ],
   "metadata": {
    "collapsed": false,
    "pycharm": {
     "name": "#%% md\n"
    }
   }
  },
  {
   "cell_type": "code",
   "execution_count": 20,
   "outputs": [
    {
     "name": "stdout",
     "output_type": "stream",
     "text": [
      "self.fsol.c=array([[ 1.0000e+00, -1.1102e-16,  1.1102e-16, -1.1102e-16,  4.1633e-17, -2.7756e-17,  5.5511e-17, -1.3878e-17,\n",
      "        -2.7756e-17, -1.3878e-17,  1.2490e-16, -3.4694e-17,  2.7756e-17,  2.4286e-17,  7.1124e-17],\n",
      "       [ 1.0000e+00, -1.1102e-16,  1.1102e-16, -1.1102e-16,  4.1633e-17, -2.7756e-17,  5.5511e-17, -1.3878e-17,\n",
      "        -2.7756e-17, -1.3878e-17,  1.2490e-16, -3.4694e-17,  2.7756e-17,  2.4286e-17,  7.1124e-17]])\n",
      "Solving nonlinear equations by Broyden's method\n",
      "it    bstep  change\n",
      "--------------------\n",
      "   0     6  9.93e-01\n",
      "   1     7  9.92e-01\n",
      "   2     6  9.89e-01\n",
      "   3     7  9.88e-01\n",
      "   4     6  9.87e-01\n",
      "   5     7  9.86e-01\n",
      "   6     6  9.86e-01\n",
      "   7     7  9.85e-01\n",
      "   8     7  9.81e-01\n",
      "   9     7  9.81e-01\n",
      "  10     7  9.76e-01\n",
      "  11     8  9.75e-01\n",
      "  12     7  9.70e-01\n",
      "  13     8  9.70e-01\n",
      "  14     7  9.63e-01\n",
      "  15     9  9.64e-01\n",
      "  16     7  9.63e-01\n",
      "  17     1  7.69e+05\n",
      "  18     2  7.53e+04\n",
      "  19     2  1.18e+06\n",
      "  20     0  3.74e+05\n",
      "  21     0  1.93e+05\n",
      "  22     0  1.58e+05\n",
      "  23     0  1.81e+04\n",
      "  24     0  6.37e+03\n",
      "  25     0  1.10e+03\n",
      "  26     0  1.31e+02\n",
      "  27     0  2.39e-01\n",
      "  28     0  4.46e-02\n",
      "  29     0  4.46e-02\n",
      "  30     0  4.46e-02\n",
      "  31     9  4.46e-02\n",
      "  32     9  4.46e-02\n",
      "  33     9  4.46e-02\n",
      "  34     9  4.46e-02\n",
      "  35     0  4.46e-02\n",
      "  36     9  4.46e-02\n",
      "  37     9  4.46e-02\n",
      "  38     9  4.46e-02\n",
      "  39     9  4.46e-02\n",
      "  40     9  4.46e-02\n",
      "  41     9  4.46e-02\n",
      "  42     9  4.46e-02\n",
      "  43     9  4.46e-02\n",
      "  44     9  4.46e-02\n",
      "  45     9  4.46e-02\n",
      "  46     9  4.46e-02\n",
      "  47     9  4.46e-02\n",
      "  48     9  4.46e-02\n",
      "  49     9  4.46e-02\n",
      "  50     9  4.46e-02\n",
      "  51     9  4.46e-02\n",
      "  52     9  4.46e-02\n",
      "  53     9  4.46e-02\n",
      "  54     9  4.46e-02\n",
      "  55     9  4.46e-02\n",
      "  56     9  4.46e-02\n",
      "  57     9  4.46e-02\n",
      "  58     9  4.46e-02\n",
      "  59     9  4.46e-02\n",
      "  60     9  4.46e-02\n",
      "  61     9  4.46e-02\n",
      "  62     9  4.46e-02\n",
      "  63     9  4.46e-02\n",
      "  64     9  4.46e-02\n",
      "  65     9  4.46e-02\n",
      "  66     9  4.46e-02\n",
      "  67     9  4.46e-02\n",
      "  68     9  4.46e-02\n",
      "  69     9  4.46e-02\n",
      "  70     9  4.46e-02\n",
      "  71     9  4.46e-02\n",
      "  72     9  4.46e-02\n",
      "  73     9  4.46e-02\n",
      "  74     9  4.46e-02\n",
      "  75     9  4.46e-02\n",
      "  76     9  4.46e-02\n",
      "  77     9  4.46e-02\n",
      "  78     9  4.46e-02\n",
      "  79     9  4.46e-02\n",
      "  80     9  4.46e-02\n",
      "  81     9  4.46e-02\n",
      "  82     9  4.46e-02\n",
      "  83     9  4.46e-02\n",
      "  84     9  4.46e-02\n",
      "  85     9  4.46e-02\n",
      "  86     9  4.46e-02\n",
      "  87     9  4.46e-02\n",
      "  88     9  4.46e-02\n",
      "  89     9  4.46e-02\n",
      "  90     9  4.46e-02\n",
      "  91     9  4.46e-02\n",
      "  92     9  4.46e-02\n",
      "  93     9  4.46e-02\n",
      "  94     9  4.46e-02\n",
      "  95     9  4.46e-02\n",
      "  96     9  4.46e-02\n",
      "  97     9  4.46e-02\n",
      "  98     9  4.46e-02\n",
      "  99     9  4.46e-02\n"
     ]
    }
   ],
   "source": [
    "n = 15    # number of basis functions\n",
    "\n",
    "problem = ODE(f, T, bv, labels=xlabels)\n",
    "problem.solve_collocation(n=n, bt=bt, bx=bx, nf=10, y=1.0)\n",
    "\n",
    "#problem.x['$p$'].plot()\n",
    "#c = zeros(n,2); c(1,:) = 1;\n",
    "#[x,t,res] = odecol(f,bv,T,n,bt,bx,[],c);"
   ],
   "metadata": {
    "collapsed": false,
    "pycharm": {
     "name": "#%%\n"
    }
   }
  },
  {
   "cell_type": "code",
   "execution_count": 6,
   "outputs": [],
   "source": [],
   "metadata": {
    "collapsed": false,
    "pycharm": {
     "name": "#%%\n"
    }
   }
  }
 ],
 "metadata": {
  "kernelspec": {
   "name": "python3",
   "language": "python",
   "display_name": "Python 3 (ipykernel)"
  },
  "language_info": {
   "codemirror_mode": {
    "name": "ipython",
    "version": 2
   },
   "file_extension": ".py",
   "mimetype": "text/x-python",
   "name": "python",
   "nbconvert_exporter": "python",
   "pygments_lexer": "ipython2",
   "version": "2.7.6"
  }
 },
 "nbformat": 4,
 "nbformat_minor": 0
}
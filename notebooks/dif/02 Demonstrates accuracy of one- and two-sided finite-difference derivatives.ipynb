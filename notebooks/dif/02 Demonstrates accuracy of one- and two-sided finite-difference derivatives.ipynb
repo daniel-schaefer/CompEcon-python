{
 "cells": [
  {
   "cell_type": "markdown",
   "metadata": {},
   "source": [
    "<center>\n",
    "<b>CompEcon Toolbox:</b>\n",
    "<div style=\"font-size:175%;color:white; background-color: #0064b0;\">DemDif02</div>\n",
    "<div style=\"font-size:250%;color:white; background-color: #0064b0;\">Demonstrates accuracy of one- and two-sided finite-difference derivatives</div>\n",
    "\n",
    "<b>Randall Romero Aguilar, PhD</b>\n",
    "<br><br>\n",
    "\n",
    "</center>\n",
    "\n",
    "This demo is based on the original Matlab demo accompanying the  <a href=\"https://mitpress.mit.edu/books/applied-computational-economics-and-finance\">Computational Economics and Finance</a> 2001 textbook by Mario Miranda and Paul Fackler.\n",
    "\n",
    "\n",
    "<i>Last updated: 2020-Sep-10</i>"
   ]
  },
  {
   "cell_type": "markdown",
   "metadata": {},
   "source": [
    "## About"
   ]
  },
  {
   "cell_type": "markdown",
   "metadata": {},
   "source": [
    "Demonstrates accuracy of one- and two-sided finite-difference derivatives of $e^x$ at $x=1$ as a function of step size $h$."
   ]
  },
  {
   "cell_type": "markdown",
   "metadata": {},
   "source": [
    "## Initial tasks"
   ]
  },
  {
   "cell_type": "code",
   "execution_count": null,
   "metadata": {},
   "outputs": [],
   "source": [
    "if 'google.colab' in str(get_ipython()):\n",
    "    print(\"This notebook is running on Google Colab. Installing the compecon package.\")\n",
    "    !pip install compecon"
   ]
  },
  {
   "cell_type": "code",
   "execution_count": null,
   "metadata": {},
   "outputs": [],
   "source": [
    "import numpy as np\n",
    "from compecon import demo\n",
    "import matplotlib.pyplot as plt"
   ]
  },
  {
   "cell_type": "markdown",
   "metadata": {},
   "source": [
    "## Setting parameters"
   ]
  },
  {
   "cell_type": "code",
   "execution_count": null,
   "metadata": {},
   "outputs": [],
   "source": [
    "n, x = 18, 1.0\n",
    "c = np.linspace(-15,0,n)\n",
    "h = 10 ** c"
   ]
  },
  {
   "cell_type": "code",
   "execution_count": null,
   "metadata": {},
   "outputs": [],
   "source": [
    "exp = np.exp\n",
    "eps = np.finfo(float).eps\n",
    "\n",
    "def deriv_error(l, u):\n",
    "    dd = (exp(u) - exp(l)) / (u-l)\n",
    "    return np.log10(np.abs(dd - exp(x)))"
   ]
  },
  {
   "cell_type": "markdown",
   "metadata": {},
   "source": [
    "## One-sided finite difference derivative"
   ]
  },
  {
   "cell_type": "code",
   "execution_count": null,
   "metadata": {},
   "outputs": [],
   "source": [
    "d1 = deriv_error(x, x+h)\n",
    "e1 = np.log10(eps**(1/2))"
   ]
  },
  {
   "cell_type": "markdown",
   "metadata": {},
   "source": [
    "## Two-sided finite difference derivative"
   ]
  },
  {
   "cell_type": "code",
   "execution_count": null,
   "metadata": {},
   "outputs": [],
   "source": [
    "d2 = deriv_error(x-h, x+h)\n",
    "e2 = np.log10(eps**(1/3))"
   ]
  },
  {
   "cell_type": "markdown",
   "metadata": {},
   "source": [
    "## Plot finite difference derivatives"
   ]
  },
  {
   "cell_type": "code",
   "execution_count": null,
   "metadata": {},
   "outputs": [],
   "source": [
    "fig, ax = plt.subplots()\n",
    "ax.plot(c,d1, label='One-Sided')\n",
    "ax.plot(c,d2, label='Two-Sided')\n",
    "ax.axvline(e1, color='C0', linestyle=':')\n",
    "ax.axvline(e2, color='C1',linestyle=':')\n",
    "\n",
    "ax.set(title='Error in Numerical Derivatives',\n",
    "       xlabel='$\\log_{10}(h)$',\n",
    "       ylabel='$\\log_{10}$ Approximation Error',\n",
    "       xlim=[-15, 0], xticks=np.arange(-15,5,5),\n",
    "       ylim=[-15, 5], yticks=np.arange(-15,10,5)\n",
    "       )\n",
    "\n",
    "ax.annotate('$\\sqrt{\\epsilon}$', (e1+.25, 2), color='C0')\n",
    "ax.annotate('$\\sqrt[3]{\\epsilon}$', (e2 +.25, 2),color='C1')\n",
    "ax.legend(loc='lower left');"
   ]
  },
  {
   "cell_type": "code",
   "execution_count": null,
   "metadata": {},
   "outputs": [],
   "source": [
    "#demo.savefig([plt.gcf()], name='demdif02')"
   ]
  }
 ],
 "metadata": {
  "kernelspec": {
   "display_name": "Python 3",
   "language": "python",
   "name": "python3"
  },
  "language_info": {
   "codemirror_mode": {
    "name": "ipython",
    "version": 3
   },
   "file_extension": ".py",
   "mimetype": "text/x-python",
   "name": "python",
   "nbconvert_exporter": "python",
   "pygments_lexer": "ipython3",
   "version": "3.8.3"
  }
 },
 "nbformat": 4,
 "nbformat_minor": 4
}

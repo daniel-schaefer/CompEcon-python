{
 "cells": [
  {
   "cell_type": "markdown",
   "source": [
    "# Stochastic Optimal Economic Growth Model\n",
    "\n",
    "**Randall Romero Aguilar, PhD**\n",
    "\n",
    "This demo is based on the original Matlab demo accompanying the  <a href=\"https://mitpress.mit.edu/books/applied-computational-economics-and-finance\">Computational Economics and Finance</a> 2001 textbook by Mario Miranda and Paul Fackler.\n",
    "\n",
    "Original (Matlab) CompEcon file: **demsoc03.m**\n",
    "\n",
    "Running this file requires the Python version of CompEcon. This can be installed with pip by running\n",
    "\n",
    "    !pip install compecon --upgrade\n",
    "\n",
    "<i>Last updated: 2021-Oct-04</i>\n",
    "<hr>"
   ],
   "metadata": {
    "collapsed": false
   }
  },
  {
   "cell_type": "markdown",
   "source": [
    "## About\n",
    "\n",
    "Social benefit maximizing social planner must decide how much society should consume and invest.\n",
    "\n",
    "* State\n",
    "    - k       capital stock\n",
    "    - y       productivity shock\n",
    "* Control\n",
    "    - q       consumption rate\n",
    "* Parameters\n",
    "    - α   capital share\n",
    "    - δ   capital depreciation rate\n",
    "    - θ   relative risk aversion\n",
    "    - γ   productivity mean reversion coefficient\n",
    "    - σ   productivity volatility\n",
    "    - ρ     discount rate"
   ],
   "metadata": {
    "collapsed": false
   }
  },
  {
   "cell_type": "markdown",
   "source": [
    "## Initial tasks\n",
    "\n",
    "$\\alpha\\delta\\theta\\gamma\\sigma\\rho$"
   ],
   "metadata": {
    "collapsed": false
   }
  },
  {
   "cell_type": "code",
   "execution_count": null,
   "outputs": [],
   "source": [
    "import numpy as np\n",
    "import pandas as pd\n",
    "import matplotlib.pyplot as plt\n",
    "from compecon import BasisChebyshev, BasisSpline, demo\n"
   ],
   "metadata": {
    "collapsed": false,
    "pycharm": {
     "name": "#%%\n"
    }
   }
  },
  {
   "cell_type": "markdown",
   "source": [
    "## Model Parameters"
   ],
   "metadata": {
    "collapsed": false
   }
  },
  {
   "cell_type": "code",
   "execution_count": null,
   "outputs": [],
   "source": [
    "α = 0.4    # capital share\n",
    "δ = 0.1    # capital depreciation rate\n",
    "θ = 2.0    # relative risk aversion\n",
    "γ = 0.5    # productivity mean reversion coefficient\n",
    "σ = 0.05   # productivity volatility\n",
    "ρ = 0.04   # discount rate"
   ],
   "metadata": {
    "collapsed": false,
    "pycharm": {
     "name": "#%%\n"
    }
   }
  },
  {
   "cell_type": "markdown",
   "source": [
    "## Model functions"
   ],
   "metadata": {
    "collapsed": false,
    "pycharm": {
     "name": "#%% md\n"
    }
   }
  },
  {
   "cell_type": "code",
   "execution_count": null,
   "outputs": [],
   "source": [
    "def control(s, q, Vs, α,δ,θ,γ,σ,ρ):\n",
    "\n",
    "    k, y = s\n",
    "    Vk  = Vs[0]\n",
    "    return Vk**(-1/θ)\n",
    "\n",
    "def reward(s, q, Vs, α,δ,θ,γ,σ,ρ):\n",
    "    return (1/(1-θ)) * q**(1-θ)\n",
    "\n",
    "def drift(s, q, Vs, α,δ,θ,γ,σ,ρ):\n",
    "    k, y = s\n",
    "    f = k**α\n",
    "    return (y*f - δ*k - q), γ*(1-y)\n",
    "\n",
    "def diffusion(s, q, Vs, α,δ,θ,γ,σ,ρ):\n",
    "    n = s.shape[1]\n",
    "    out = np.zeros(2,2,n)\n",
    "    out[1 ,1] = σ * np.sqrt(y)"
   ],
   "metadata": {
    "collapsed": false,
    "pycharm": {
     "name": "#%%\n"
    }
   }
  }
 ],
 "metadata": {
  "kernelspec": {
   "display_name": "Python 3",
   "language": "python",
   "name": "python3"
  },
  "language_info": {
   "codemirror_mode": {
    "name": "ipython",
    "version": 2
   },
   "file_extension": ".py",
   "mimetype": "text/x-python",
   "name": "python",
   "nbconvert_exporter": "python",
   "pygments_lexer": "ipython2",
   "version": "2.7.6"
  }
 },
 "nbformat": 4,
 "nbformat_minor": 0
}